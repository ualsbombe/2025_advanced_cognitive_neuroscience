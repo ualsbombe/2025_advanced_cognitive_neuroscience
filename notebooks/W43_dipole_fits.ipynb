{
 "cells": [
  {
   "cell_type": "markdown",
   "id": "552aa037",
   "metadata": {},
   "source": [
    "Here, we are going to do dipole fits - as this is quite heavy processing you can use **8 CPUs**  \n",
    "We are doing it on the *somato* dataset, but you have all the ingredients to apply it to your own data"
   ]
  },
  {
   "cell_type": "code",
   "execution_count": null,
   "id": "582b8444",
   "metadata": {},
   "outputs": [],
   "source": [
    "#%% PACKAGES\n",
    "\n",
    "import mne\n",
    "from os.path import join\n",
    "from os import chdir\n",
    "import matplotlib.pyplot as plt\n",
    "import matplotlib as mpl\n",
    "import numpy as np\n",
    "%matplotlib widget\n"
   ]
  },
  {
   "cell_type": "code",
   "execution_count": null,
   "id": "4bda346d",
   "metadata": {},
   "outputs": [],
   "source": [
    "#%% SET DEFAULT PLOTTING PARAMETERS\n",
    "\n",
    "mpl.rcParams.update(mpl.rcParamsDefault)\n",
    "mpl.rcParams['font.size'] = 12\n",
    "mpl.rcParams['font.weight'] = 'bold'\n",
    "mpl.rcParams['lines.linewidth'] = 3\n",
    "plt.ion()"
   ]
  },
  {
   "cell_type": "markdown",
   "id": "fc29699e",
   "metadata": {},
   "source": [
    "This data was added to UCloud"
   ]
  },
  {
   "cell_type": "code",
   "execution_count": null,
   "id": "e61e3dee",
   "metadata": {},
   "outputs": [],
   "source": [
    "somato_path = '/work/MEG_data/MNE-somato-data'\n",
    "somato_meg_path = join(somato_path, 'sub-01', 'meg')\n",
    "subjects_dir = join(somato_path, 'derivatives', 'freesurfer', 'subjects')\n",
    "subject = 'somato'\n",
    "chdir(somato_meg_path)\n",
    "\n",
    "# dataset with 111 somatosensory stimulations of the left hand\n",
    "# https://mne.tools/stable/overview/datasets_index.html#somatosensory"
   ]
  },
  {
   "cell_type": "markdown",
   "id": "4b861690",
   "metadata": {},
   "source": [
    "Just get a quick and dirty evoked response"
   ]
  },
  {
   "cell_type": "code",
   "execution_count": null,
   "id": "c5db3507",
   "metadata": {},
   "outputs": [],
   "source": [
    "#%% GET EVOKED RESPONSE\n",
    "\n",
    "raw_somato = mne.io.read_raw(join(somato_meg_path,\n",
    "                                  'sub-01_task-somato_meg.fif'))\n",
    "\n",
    "events_somato = mne.find_events(raw_somato)\n",
    "\n",
    "event_id = dict(somato=1) # a somatosensory stimulation\n",
    "tmin = -0.200 # s\n",
    "tmax =  0.600 # s\n",
    "baseline = (None, -0.010)\n",
    "\n",
    "epochs_somato = mne.Epochs(raw_somato, events_somato, event_id, tmin, tmax,\n",
    "                           baseline)\n",
    "\n",
    "evoked_somato = epochs_somato.average()\n",
    "evoked_somato.plot(xlim=(-0.050, 0.150))"
   ]
  },
  {
   "cell_type": "markdown",
   "id": "66f7b104",
   "metadata": {},
   "source": [
    "Define the bem model needed for calculation of the lead field"
   ]
  },
  {
   "cell_type": "code",
   "execution_count": null,
   "id": "46b4700d",
   "metadata": {},
   "outputs": [],
   "source": [
    "#%% DIPOLE FITTING\n",
    "\n",
    "## boundary element method\n",
    "\n",
    "## describe the surfaces and their conductivies\n",
    "bem_model = mne.bem.make_bem_model(subject='01', subjects_dir=subjects_dir,\n",
    "                                   conductivity=[0.3]) ## single layer model\n",
    "## plot the three surfaces\n",
    "mne.viz.plot_bem(subject, subjects_dir)\n"
   ]
  },
  {
   "cell_type": "markdown",
   "id": "c249ee95",
   "metadata": {},
   "source": [
    "Load the pre-defined solution, or create it yourself (you have to uncomment; took about 2½ minutes with 8 CPUs)"
   ]
  },
  {
   "cell_type": "code",
   "execution_count": null,
   "id": "4ad31d6d",
   "metadata": {},
   "outputs": [],
   "source": [
    "\n",
    "## model how the currents spread throughout the brain\n",
    "#bem_solution = mne.bem.make_bem_solution(bem_model)\n",
    "\n",
    "bem_solution = mne.bem.read_bem_solution(join(subjects_dir, 'somato', 'bem', '01-5120-bem-sol.fif'))\n",
    "\n",
    "## trans \n",
    "trans = join(somato_path, 'derivatives', 'sub-01', 'somato-trans.fif')\n"
   ]
  },
  {
   "cell_type": "markdown",
   "id": "fe4afd00",
   "metadata": {},
   "source": [
    "Whitening the data from the magnetometers and the gradiometers based on the baseline period\n",
    "Note that the real rank of the data doesn't correspond to the nominal rank"
   ]
  },
  {
   "cell_type": "code",
   "execution_count": null,
   "id": "995526e2",
   "metadata": {},
   "outputs": [],
   "source": [
    "\n",
    "## noise_covariance - needed for whitening the channels, i.e. normalizing\n",
    "# the output of the magnetometers and the gradiometers such that they are\n",
    "# comparable\n",
    "\n",
    "noise_cov_somato = mne.compute_covariance(epochs_somato, tmin=None, tmax=-0.010,\n",
    "                                          rank='info')\n",
    "noise_cov_somato.plot(epochs_somato.info)"
   ]
  },
  {
   "cell_type": "markdown",
   "id": "746aff15",
   "metadata": {},
   "source": [
    "Cropping the data - we don't wanna fit it all, i.e. we think dipoles are best for the early, sensory responses"
   ]
  },
  {
   "cell_type": "code",
   "execution_count": null,
   "id": "1c7530b1",
   "metadata": {},
   "outputs": [],
   "source": [
    "## dipole modelling\n",
    "\n",
    "evoked_somato_cropped = evoked_somato.copy() ## create a copy to be cropped\n",
    "evoked_somato_cropped.crop(0.000, 0.150) ## only look at this time interval\n",
    "\n",
    "evoked_somato_cropped.plot()\n"
   ]
  },
  {
   "cell_type": "markdown",
   "id": "52e5a774",
   "metadata": {},
   "source": [
    "The lead field and the source model are computed on the fly based on the bem solution."
   ]
  },
  {
   "cell_type": "code",
   "execution_count": null,
   "id": "36d38658",
   "metadata": {},
   "outputs": [],
   "source": [
    "\n",
    "## dipole fit - a forward model (lead field) and a (volumetric) source model\n",
    "## are computed on the fly \n",
    " \n",
    "dip, residual = mne.dipole.fit_dipole(evoked_somato_cropped, noise_cov_somato,\n",
    "                                      bem=bem_solution, trans=trans,\n",
    "                                      n_jobs=-1)"
   ]
  },
  {
   "cell_type": "markdown",
   "id": "2e8e34aa",
   "metadata": {},
   "source": [
    "Plotting different metrics for evaluating the dipole fit"
   ]
  },
  {
   "cell_type": "code",
   "execution_count": null,
   "id": "a1bc13e4",
   "metadata": {},
   "outputs": [],
   "source": [
    "dip.plot_locations(trans=trans, subject=subject, subjects_dir=subjects_dir,\n",
    "                   show_all=False) # show the dipole with the best fit\n",
    "fig = plt.figure()\n",
    "plt.plot(dip.times, dip.gof)\n",
    "plt.title('Goodness of fit of dipole models')\n",
    "plt.xlabel('Time (s)'); plt.ylabel('Goodness of fit') # 100 is max 0 is min\n",
    "\n",
    "fig = plt.figure()\n",
    "plt.plot(dip.times, dip.amplitude * 1e9)\n",
    "plt.title('Amplitude of fitted dipoles')\n",
    "plt.xlabel('Time (s)'); plt.ylabel('Current density (nAm)')\n",
    "plt.show()"
   ]
  },
  {
   "cell_type": "markdown",
   "id": "39c7c76a",
   "metadata": {},
   "source": [
    "Doing a sequential fit, i.e. fitting a new dipole model on the residuals of the first fit:  \n",
    "  - first fit, minimise: $fit_0 = (\\boldsymbol b(t) - \\hat{\\boldsymbol b}(t)_{fit_0})^2$\n",
    "  - second fit, minimise: $fit_1 =[(\\boldsymbol{b}(t)- \\hat{\\boldsymbol b}(t)_{fit_0}) - \\hat{\\boldsymbol b}(t)_{fit_1}]^2$\n",
    "  - ... and so on, *ad nauseam*"
   ]
  },
  {
   "cell_type": "code",
   "execution_count": null,
   "id": "81fa3388",
   "metadata": {},
   "outputs": [],
   "source": [
    "#%% sequential fit\n",
    "\n",
    "dip_no2, residual_no2 = mne.dipole.fit_dipole(residual, noise_cov_somato,\n",
    "                                      bem=bem_solution, trans=trans,\n",
    "                                      n_jobs=-1)\n",
    "\n",
    "modelled_response_no2 = residual.copy()\n",
    "modelled_response_no2._data -= residual_no2.data\n",
    "\n",
    "fig = plt.figure()\n",
    "plt.plot(dip_no2.times, dip_no2.gof)\n",
    "plt.title('Goodness of fit of dipole models')\n",
    "plt.xlabel('Time (s)'); plt.ylabel('Goodness of fit') # 100 is max 0 is min\n",
    "\n",
    "fig = plt.figure()\n",
    "plt.plot(dip_no2.times, dip_no2.amplitude * 1e9)\n",
    "plt.title('Amplitude of fitted dipoles')\n",
    "plt.xlabel('Time (s)'); plt.ylabel('Current density (nAm)')\n",
    "plt.show()\n",
    "\n",
    "modelled_response_no2.plot()\n",
    "dip_no2.plot_locations(trans=trans, subject=subject, subjects_dir=subjects_dir,\n",
    "                   show_all=False) # show the dipole with the best fit\n",
    "\n",
    "dip_no2_SII = dip_no2.copy()\n",
    "dip_no2_SII.crop(0.090, 0.110)\n",
    "dip_no2_SII.plot_locations(trans=trans, subject=subject, subjects_dir=subjects_dir,\n",
    "                   show_all=False) # show the dipole with the best fit"
   ]
  },
  {
   "cell_type": "markdown",
   "id": "5e76e711",
   "metadata": {},
   "source": [
    "Some experimental code inspired from: https://mne.tools/stable/auto_examples/inverse/multi_dipole_model.html#sphx-glr-auto-examples-inverse-multi-dipole-model-py, to extract time courses from epochs instead of evokeds, such that you could apply it in machine learning"
   ]
  },
  {
   "cell_type": "code",
   "execution_count": null,
   "id": "e67fc376",
   "metadata": {},
   "outputs": [],
   "source": [
    "cropped_dip = dip.copy()\n",
    "cropped_dip.crop(0.040, 0.040)\n",
    "\n",
    "\n",
    "fwd, _ = mne.make_forward_dipole(dip, bem_solution, epochs_somato.info, trans=trans)\n"
   ]
  },
  {
   "cell_type": "code",
   "execution_count": null,
   "id": "ffd3e69e",
   "metadata": {},
   "outputs": [],
   "source": [
    "\n",
    "# Apply MNE inverse\n",
    "inv = mne.minimum_norm.make_inverse_operator(epochs_somato.info, fwd, noise_cov_somato, fixed=True, depth=0)\n"
   ]
  },
  {
   "cell_type": "code",
   "execution_count": null,
   "id": "b5a936f8",
   "metadata": {},
   "outputs": [],
   "source": [
    "\n",
    "cropped_epochs_somato = epochs_somato.copy()\n",
    "cropped_epochs_somato.load_data()\n",
    "cropped_epochs_somato.crop(0.000, 0.150)\n",
    "stcs_40_ms = mne.minimum_norm.apply_inverse_epochs(cropped_epochs_somato, inv, lambda2=1, method=\"MNE\")\n"
   ]
  },
  {
   "cell_type": "code",
   "execution_count": null,
   "id": "35321eaa",
   "metadata": {},
   "outputs": [],
   "source": [
    "\n",
    "plt.figure()\n",
    "avg_data = np.zeros(shape=(len(stcs_40_ms), len(cropped_epochs_somato.times)))\n",
    "for stc_index, stc in enumerate(stcs_40_ms):\n",
    "    this_data = np.mean(stc.data, axis=0) * 1e9\n",
    "    plt.plot(stc.times * 1e3, this_data)\n",
    "    avg_data[stc_index, :] = this_data\n",
    "    \n",
    "plt.plot(stc.times * 1e3, np.mean(avg_data, axis=0) , 'k--', lw=10 )\n",
    "plt.title('Individual epochs and and their average')\n",
    "plt.xlabel('Time (ms)')\n",
    "plt.ylabel('Current Density (nAm)')\n",
    "plt.show()\n",
    "#avg_data.shape"
   ]
  }
 ],
 "metadata": {
  "kernelspec": {
   "display_name": "env",
   "language": "python",
   "name": "python3"
  },
  "language_info": {
   "codemirror_mode": {
    "name": "ipython",
    "version": 3
   },
   "file_extension": ".py",
   "mimetype": "text/x-python",
   "name": "python",
   "nbconvert_exporter": "python",
   "pygments_lexer": "ipython3",
   "version": "3.12.3"
  }
 },
 "nbformat": 4,
 "nbformat_minor": 5
}
