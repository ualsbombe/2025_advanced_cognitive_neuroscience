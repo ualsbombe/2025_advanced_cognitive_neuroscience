{
 "cells": [
  {
   "cell_type": "markdown",
   "id": "ff05b627-2042-4f1a-8c60-2b9c37ff3600",
   "metadata": {},
   "source": [
    "# TUTORIAL W36\n",
    "\n",
    "In this tutorial, we will get acquainted with working with MEG data on UCloud  \n",
    "We will be using the MNE-sample-data that contains visual and auditory stimulations  \n",
    "The dataset also contains anatomical MR-data processed with FreeSurfer, meaning that we have access to a forward model linking the source space to sensor space.  \n",
    "With that we can create an inverse model for reconstructing the sensor space visual and auditory responses in the source space.  \n",
    "In this tutorial we will zoom through a lot of the steps, which throughout the course will be covered explicitly\n",
    "\n",
    "## SETUP YOUR ENVIRONMENT\n",
    "\n",
    "**Make sure that you have followed the instructions for setting up your environment, local and UCloud before beginning on this.** The instructions can be found here: https://github.com/ualsbombe/2025_advanced_cognitive_neuroscience/blob/main/README.md\n",
    "\n",
    "## RESPECT EACH OTHER'S PERSONAL DATA\n",
    "\n",
    "**Note** that 3D plots cannot be opened on UCloud (these are mostly (fancy) source space plots). That is why we also set up a local environment for you to create these plots. It is very important that you do **not** store any subject MR-data locally. Therefore, we will only plot on the *fsaverage* template brain (distributed with FreeSurfer). Single subjects can be morphed onto this template"
   ]
  },
  {
   "cell_type": "code",
   "execution_count": 2,
   "id": "3af465a9-8e7a-476a-8fd5-b5b9b7ac5daf",
   "metadata": {},
   "outputs": [
    {
     "name": "stderr",
     "output_type": "stream",
     "text": [
      "/home/lau/.local/lib/python3.10/site-packages/matplotlib/projections/__init__.py:63: UserWarning: Unable to import Axes3D. This may be due to multiple versions of Matplotlib being installed (e.g. as a system package and as a pip package). As a result, the 3D projection is not available.\n",
      "  warnings.warn(\"Unable to import Axes3D. This may be due to multiple versions of \"\n"
     ]
    }
   ],
   "source": [
    "## IMPORTS\n",
    "\n",
    "import mne ## MNE-Python for analysing data\n",
    "## below magic provides interactive plots in notebook\n",
    "%matplotlib widget\n",
    "from os import chdir\n",
    "from os.path import join\n",
    "import matplotlib.pyplot as plt ## for basic plotting\n",
    "import matplotlib as mpl ## for setting default parameters"
   ]
  },
  {
   "cell_type": "code",
   "execution_count": 3,
   "id": "652c2855-0808-44c4-97ee-bf424131712c",
   "metadata": {},
   "outputs": [],
   "source": [
    "#%% SET DEFAULT PLOTTING PARAMETERS\n",
    "\n",
    "mpl.rcParams.update(mpl.rcParamsDefault)\n",
    "mpl.rcParams['font.size'] = 24\n",
    "mpl.rcParams['font.weight'] = 'bold'\n",
    "mpl.rcParams['lines.linewidth'] = 3"
   ]
  },
  {
   "cell_type": "markdown",
   "id": "fb2dcdea-7107-4e6c-9463-3ae58bf5f055",
   "metadata": {},
   "source": [
    "## SAMPLE DATA SET (https://mne.tools/stable/documentation/datasets.html#sample)\n",
    "*These data were acquired with the Neuromag Vectorview system at MGH/HMS/MIT Athinoula A. Martinos Center Biomedical Imaging. EEG data from a 60-channel electrode cap was acquired simultaneously with the MEG. The original MRI data set was acquired with a Siemens 1.5 T Sonata scanner using an MPRAGE sequence.*\n",
    "\n",
    "*In this experiment, checkerboard patterns were presented to the subject into the left and right visual field, interspersed by tones to the left or right ear. The interval between the stimuli was 750 ms. Occasionally a smiley face was presented at the center of the visual field. The subject was asked to press a key with the right index finger as soon as possible after the appearance of the face.*\n",
    "\n",
    "Change the path to your relevant path below\n"
   ]
  },
  {
   "cell_type": "code",
   "execution_count": 4,
   "id": "67dc3952-af5b-464c-9c98-7b63470b3900",
   "metadata": {},
   "outputs": [],
   "source": [
    "#%% LOAD SAMPLE DATA SET\n",
    "\n",
    "sample_path = '/work/MEG_data/MNE-sample-data' ## UCloud\n",
    "sample_path = '/home/lau/mne_data/MNE-sample-data/' ## local\n",
    "sample_meg_path = join(sample_path, 'MEG', 'sample')\n",
    "chdir(sample_meg_path)\n",
    "subjects_dir = '../../subjects/'"
   ]
  },
  {
   "cell_type": "code",
   "execution_count": 5,
   "id": "a94eb06d-2c27-4ae3-bb48-c4afa208f40f",
   "metadata": {},
   "outputs": [
    {
     "name": "stdout",
     "output_type": "stream",
     "text": [
      "Opening raw data file sample_audvis_raw.fif...\n",
      "    Read a total of 3 projection items:\n",
      "        PCA-v1 (1 x 102)  idle\n",
      "        PCA-v2 (1 x 102)  idle\n",
      "        PCA-v3 (1 x 102)  idle\n",
      "    Range : 25800 ... 192599 =     42.956 ...   320.670 secs\n",
      "Ready.\n",
      "Reading 0 ... 166799  =      0.000 ...   277.714 secs...\n"
     ]
    }
   ],
   "source": [
    "#%% READ RAW\n",
    "\n",
    "raw_sample = mne.io.read_raw_fif('sample_audvis_raw.fif', preload=True)"
   ]
  },
  {
   "cell_type": "code",
   "execution_count": null,
   "id": "540b9cc4-92cd-4a88-8d19-155ea561081d",
   "metadata": {},
   "outputs": [],
   "source": [
    "## PLOT RAW DATA\n",
    "fig = raw_sample.plot()"
   ]
  },
  {
   "cell_type": "code",
   "execution_count": null,
   "id": "7bab1575-71e3-41ab-84b5-939726dbc4d4",
   "metadata": {},
   "outputs": [],
   "source": [
    "## COMPUTE POWER SPECTRAL DENSITY\n",
    "psd = raw_sample.compute_psd() "
   ]
  },
  {
   "cell_type": "markdown",
   "id": "c052b383-03bf-4691-b64e-e2c23fb6021e",
   "metadata": {},
   "source": [
    "## INSPECT THE DATA\n",
    "\n",
    "How do you tell that an online low-pass filter of 170 Hz has been applied?"
   ]
  },
  {
   "cell_type": "code",
   "execution_count": null,
   "id": "5913692f-8200-439f-8bc9-2e3623b7c45e",
   "metadata": {},
   "outputs": [],
   "source": [
    "## PLOT POWER SPECTRAL DENSITY\n",
    "fig = psd.plot() # online low-pass filter of 170 Hz"
   ]
  },
  {
   "cell_type": "markdown",
   "id": "4410851f-1389-4c67-a258-5472687948f4",
   "metadata": {},
   "source": [
    "## FILTERING THE DATA\n",
    "\n",
    "We low-pass filter the data, as we are only looking for evoked responses, which are rarely above 40 Hz"
   ]
  },
  {
   "cell_type": "code",
   "execution_count": null,
   "id": "2dcb74ab-809a-4f77-acb5-74a8595ee8a0",
   "metadata": {},
   "outputs": [],
   "source": [
    "## FILTERING DATA WITH LOW-PASS FILTER\n",
    "raw_sample.filter(l_freq=None, h_freq=40); # low-pass filter of 40 Hz"
   ]
  },
  {
   "cell_type": "code",
   "execution_count": null,
   "id": "e787db9c-f64e-4ef8-8873-309fc4fddf2e",
   "metadata": {},
   "outputs": [],
   "source": [
    "## PLOTTING POWER SPECTRAL DENSITY AFTER LOW-PASS FILTER\n",
    "fig = raw_sample.compute_psd().plot()"
   ]
  },
  {
   "cell_type": "markdown",
   "id": "2aa087f3-090c-40c9-afc5-5abd763120ee",
   "metadata": {},
   "source": [
    "## FINDING THE RELEVANT EVENTS\n",
    "\n",
    "On the trigger channel `'STI014'`, square pulses were sent to indicate when stimuli were presented and responses were registered.\n",
    "Check the `raw_sample.plot()` and see if you can find it and the square pulses"
   ]
  },
  {
   "cell_type": "code",
   "execution_count": 6,
   "id": "2d81e98d-61d6-459b-8c3b-72e4981b6b2e",
   "metadata": {},
   "outputs": [
    {
     "name": "stdout",
     "output_type": "stream",
     "text": [
      "Finding events on: STI 014\n",
      "320 events found on stim channel STI 014\n",
      "Event IDs: [ 1  2  3  4  5 32]\n"
     ]
    },
    {
     "data": {
      "application/vnd.jupyter.widget-view+json": {
       "model_id": "b1f04b68e6b54c38acd00c166acc0f24",
       "version_major": 2,
       "version_minor": 0
      },
      "image/png": "[encoded data removed]",
      "text/html": [
       "\n",
       "            <div style=\"display: inline-block;\">\n",
       "                <div class=\"jupyter-widgets widget-label\" style=\"text-align: center;\">\n",
       "                    Figure\n",
       "                </div>\n",
       "                <img src='data:image/png;base64,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' width=640.0/>\n",
       "            </div>\n",
       "        "
      ],
      "text/plain": [
       "Canvas(toolbar=Toolbar(toolitems=[('Home', 'Reset original view', 'home', 'home'), ('Back', 'Back to previous …"
      ]
     },
     "metadata": {},
     "output_type": "display_data"
    }
   ],
   "source": [
    "#%% FIND EVENTS\n",
    "\n",
    "events_sample = mne.find_events(raw_sample)\n",
    "mne.viz.plot_events(events_sample, sfreq=raw_sample.info['sfreq']);\n",
    "\n",
    "## LA: 1: Response to left-ear auditory stimulus (a tone)\n",
    "## RA: 2: Response to right-ear auditory stimulus\n",
    "## LV: 3: Response to left visual field stimulus (checkerboard)\n",
    "## RV: 4: Response to right visual field stimulus\n",
    "## smiley: 5: Response to the smiley face\n",
    "## button: 32: Response triggered by the button press\n",
    "# https://mne.tools/stable/overview/datasets_index.html#sample"
   ]
  },
  {
   "cell_type": "markdown",
   "id": "ecd2f7f3-16d1-4633-b9f4-f08b7198a6f0",
   "metadata": {},
   "source": [
    "## SEGMENTING/EPOCHING THE DATA\n",
    "\n",
    "Instead of handling all the data at once, we just cut out segments around the events of interest"
   ]
  },
  {
   "cell_type": "code",
   "execution_count": 7,
   "id": "b2a8197e-05ff-4dd7-9708-d0b1d0fdc147",
   "metadata": {},
   "outputs": [
    {
     "name": "stdout",
     "output_type": "stream",
     "text": [
      "Not setting metadata\n",
      "72 matching events found\n",
      "Setting baseline interval to [-0.19979521315838786, 0.0] s\n",
      "Applying baseline correction (mode: mean)\n",
      "Created an SSP operator (subspace dimension = 3)\n",
      "3 projection items activated\n",
      "Using data from preloaded Raw for 72 events and 481 original time points ...\n",
      "0 bad epochs dropped\n",
      "EEG channel type selected for re-referencing\n",
      "Adding average EEG reference projection.\n",
      "1 projection items deactivated\n",
      "Average reference projection was added, but has not been applied yet. Use the apply_proj method to apply it.\n"
     ]
    }
   ],
   "source": [
    "#%% EPOCH THE DATA\n",
    "event_id = dict(LA=1) ## we'll just look at this one event\n",
    "tmin = -0.200 # s\n",
    "tmax =  0.600 # s\n",
    "baseline = (None, 0) # s (from beginning to 0); for demeaning\n",
    "\n",
    "## segment the data\n",
    "epochs_sample = mne.Epochs(raw_sample, events_sample,\n",
    "                           event_id, tmin, tmax, baseline, preload=True)\n",
    "epochs_sample.set_eeg_reference(projection=True);"
   ]
  },
  {
   "cell_type": "code",
   "execution_count": null,
   "id": "979b5f8c-3dd8-466b-a154-36b167b7aa15",
   "metadata": {},
   "outputs": [],
   "source": [
    "## PLOT EPOCHS\n",
    "fig = epochs_sample.plot()"
   ]
  },
  {
   "cell_type": "markdown",
   "id": "87d4ab60-9ac4-425a-8cd7-98c9d77d2c77",
   "metadata": {},
   "source": [
    "## AVERAGING TO OBTAIN AN EVOKED RESPONSE\n",
    "\n",
    "To increase the signal-to-noise ratio, we average the epochs"
   ]
  },
  {
   "cell_type": "code",
   "execution_count": null,
   "id": "bb29ff86-786d-4c35-8cef-51f5ddea0cfb",
   "metadata": {},
   "outputs": [],
   "source": [
    "#%% AVERAGE (EVOKED)\n",
    "evoked_sample = epochs_sample.average()"
   ]
  },
  {
   "cell_type": "code",
   "execution_count": null,
   "id": "fff464c7-1054-4f55-8240-9ecf25f96962",
   "metadata": {},
   "outputs": [],
   "source": [
    "## PLOTTING AVERAGES\n",
    "evoked_sample.plot() \n",
    "mne.viz.plot_evoked_topo(evoked_sample);"
   ]
  },
  {
   "cell_type": "code",
   "execution_count": null,
   "id": "085f2ee0-1a8b-4931-9c4f-9480540d50f3",
   "metadata": {},
   "outputs": [],
   "source": [
    "#%% HAVING MORE THAN ONE EVENT\n",
    "\n",
    "event_id = dict(LA=1, RA=2, LV=3, RV=4)\n",
    "more_epochs = mne.Epochs(raw_sample, events_sample,\n",
    "                           event_id, tmin=-0.200, tmax=0.600,\n",
    "                           baseline=(None, 0),\n",
    "                           preload=True)\n",
    "\n",
    "more_evokeds = list()\n",
    "for event in more_epochs.event_id:\n",
    "    more_evokeds.append(more_epochs[event].average());\n",
    "\n"
   ]
  },
  {
   "cell_type": "code",
   "execution_count": null,
   "id": "7ac67266-bae9-4342-bfac-5e330cd22cf6",
   "metadata": {},
   "outputs": [],
   "source": [
    "## PLOT SEVERAL EVENTS\n",
    "mne.viz.plot_evoked_topo(more_evokeds);"
   ]
  },
  {
   "cell_type": "markdown",
   "id": "d7d47ab7-c747-447f-8a6d-f739ec24a722",
   "metadata": {},
   "source": [
    "## FORWARD MODEL\n",
    "\n",
    "$\\boldsymbol L (\\boldsymbol r)$ is our forward model that for each source location $\\boldsymbol r$, expresses how that source is linked to the sensors. The SI-unit is $\\frac {T} {Am}$.  \n",
    "The SI-unit for the magnetic field at each time point, $t$, $\\boldsymbol b (t)$ is $T$.  \n",
    "The SI-unit for the current density $\\boldsymbol s(\\boldsymbol r, t)$  at each location $\\boldsymbol r$ and time point $t$ is $Am$.  \n",
    "The forward model states for each source at whatever $\\boldsymbol r$ how its activation in $Am$ is linked to the magnetic field at each sensor, e.g. $b_1(t)$.  \n",
    "$\\boldsymbol n(t)$ is the Gaussian noise at each time point\n",
    "\n",
    "$\\boldsymbol b(t) = \\left[\n",
    "\\begin{array}{c} \n",
    "b_1(t) \\\\\n",
    "b_2(t) \\\\\n",
    "\\vdots \\\\\n",
    "b_M(t)\n",
    "\\end{array}\n",
    "\\right]$  \n",
    "$\\boldsymbol{b}(t) = \\boldsymbol{L}(\\boldsymbol{r}) \\boldsymbol s(\\boldsymbol r, t) + \\boldsymbol n(t)$\n",
    "\n",
    "The nice people from MNE-Python have already made a forward model for us"
   ]
  },
  {
   "cell_type": "code",
   "execution_count": 9,
   "id": "9dd7c278-5754-49f8-8dff-40874e0251f8",
   "metadata": {},
   "outputs": [
    {
     "name": "stdout",
     "output_type": "stream",
     "text": [
      "Reading forward solution from /home/lau/mne_data/MNE-sample-data/MEG/sample/sample_audvis-meg-eeg-oct-6-fwd.fif...\n",
      "    Reading a source space...\n",
      "    Computing patch statistics...\n",
      "    Patch information added...\n",
      "    Distance information added...\n",
      "    [done]\n",
      "    Reading a source space...\n",
      "    Computing patch statistics...\n",
      "    Patch information added...\n",
      "    Distance information added...\n",
      "    [done]\n",
      "    2 source spaces read\n",
      "    Desired named matrix (kind = 3523 (FIFF_MNE_FORWARD_SOLUTION_GRAD)) not available\n",
      "    Read MEG forward solution (7498 sources, 306 channels, free orientations)\n",
      "    Desired named matrix (kind = 3523 (FIFF_MNE_FORWARD_SOLUTION_GRAD)) not available\n",
      "    Read EEG forward solution (7498 sources, 60 channels, free orientations)\n",
      "    Forward solutions combined: MEG, EEG\n",
      "    Source spaces transformed to the forward solution coordinate frame\n"
     ]
    }
   ],
   "source": [
    "## READ FORWARD MODEL\n",
    "fwd = mne.read_forward_solution('sample_audvis-meg-eeg-oct-6-fwd.fif')"
   ]
  },
  {
   "cell_type": "markdown",
   "id": "0c412875-6591-4a4a-b667-50eb88303a70",
   "metadata": {},
   "source": [
    "## PLOTTING THE FORWARD MODEL\n",
    "\n",
    "`mne.viz.plot_alignment` does not work on UCloud"
   ]
  },
  {
   "cell_type": "code",
   "execution_count": null,
   "id": "c6cc6928-33f0-47e2-ad1d-569c2d95ea19",
   "metadata": {},
   "outputs": [],
   "source": [
    "## PLOT SOURCE SPACE\n",
    "\n",
    "# extract source space\n",
    "src = fwd['src']\n",
    "##plot alignment does not work on UCloud\n",
    "mne.viz.plot_alignment(info=epochs_sample.info, src=src, subjects_dir='../../subjects/',\n",
    "                       subject=\"sample\", surfaces=\"white\", trans='sample_audvis_raw-trans.fif')\n",
    "\n",
    "## 2D alternative\n",
    "\n",
    "#mne.viz.plot_sensors(raw_sample.info);"
   ]
  },
  {
   "cell_type": "markdown",
   "id": "3f0c804c-7c48-48d2-b8e0-f752e3f831ff",
   "metadata": {},
   "source": [
    "## CODE FOR GETTING INFO ABOUT THE ELEMENTS OF THE FORWARD MODEL\n",
    "\n",
    "- `info` has information about the positions of the channels in the subject's head coordinate system; the origo is at the intersection of the pre-auricular points and the nasion. The first three elements in `'loc'` are the *xyz* coordinates\n",
    "- `src` has info about where sources are placed, with the current model: on the surface of the cerebral cortex. There is also more information about the orientation of the sources.\n",
    "- `trans` contains the transformation matrix that takes the subject's head space (defined in terms of a so-called Polhemus digitisation system) into the subject's MR space, effecitively bringing the sensor positions from `info` into the same coordinate system as the MR coordinate system.\n",
    "- `bem_solution` contains information about how currents propagate through the three media, brain, skull and skin, to the electrodes and to the magnetometers and gradiometers. The entry in `[i, j]` indicates how much the potential, [*V*] changes in `i` when a unit current dipole (1 Am) is placed in `j`.\n"
   ]
  },
  {
   "cell_type": "code",
   "execution_count": 8,
   "id": "b5b1a1c2-82a6-40fd-b6db-e04b3f4d3efe",
   "metadata": {},
   "outputs": [
    {
     "name": "stdout",
     "output_type": "stream",
     "text": [
      "[-0.1066      0.0464     -0.0604     -0.0127      0.0057     -0.99990302\n",
      " -0.186801   -0.98240298 -0.0033     -0.98232698  0.18674099  0.013541  ]\n"
     ]
    }
   ],
   "source": [
    "## INFO ABOUT WHERE CHANNELS ARE (in subject's head space)\n",
    "info = epochs_sample.info\n",
    "print(info['chs'][2]['loc'])"
   ]
  },
  {
   "cell_type": "code",
   "execution_count": null,
   "id": "59241a47-9229-4b06-9d05-5a6a6b8728a4",
   "metadata": {},
   "outputs": [],
   "source": [
    "## INFO ABOUT WHERE SOURCES ARE (in subject's MR space)\n",
    "src = fwd['src']\n",
    "# src = mne.source_space.setup_source_space(subject='sample', subjects_dir=subjects_dir)\n",
    "print(fwd['src'][0]['rr'])"
   ]
  },
  {
   "cell_type": "code",
   "execution_count": null,
   "id": "aa03b7b3-239d-4e13-b7ff-89e14857f7b5",
   "metadata": {},
   "outputs": [],
   "source": [
    "## TRANSFORMATION MATRIX THAT MAPS THE TWO SPACES ONTO ANOTHER\n",
    "trans = mne.read_trans('sample_audvis_raw-trans.fif')\n",
    "print(trans)"
   ]
  },
  {
   "cell_type": "code",
   "execution_count": 32,
   "id": "7d5b5b7f-cd6c-4d75-a6ef-a4721d6a83fe",
   "metadata": {},
   "outputs": [
    {
     "name": "stdout",
     "output_type": "stream",
     "text": [
      "Loading surfaces...\n",
      "\n",
      "Loading the solution matrix...\n",
      "\n",
      "Three-layer model surfaces loaded.\n",
      "Loaded linear collocation BEM solution from /home/lau/mne_data/MNE-sample-data/MEG/sample/../../subjects/sample/bem/sample-5120-5120-5120-bem-sol.fif\n",
      "[[ 2.1514516e-02 -1.8183291e-05 -1.6480033e-05 ... -5.9466978e-04\n",
      "  -6.6832255e-04 -8.1568857e-04]\n",
      " [-1.1894640e-05  2.0677185e-02 -9.1299444e-06 ... -4.5286494e-04\n",
      "  -3.5304064e-04 -4.2359543e-04]\n",
      " [-1.7444265e-05 -1.4329190e-05  2.0779889e-02 ... -3.9645983e-04\n",
      "  -4.3777065e-04 -3.9654653e-04]\n",
      " ...\n",
      " [-7.9648926e-06  5.6645104e-07 -1.5632158e-06 ...  1.0602014e+00\n",
      "   3.4819089e-02  3.0055961e-02]\n",
      " [-8.0139662e-06  3.6772704e-07 -1.5281699e-06 ...  3.3850696e-02\n",
      "   1.0879593e+00  3.0417060e-02]\n",
      " [-8.5733745e-06  1.1546878e-09 -1.7350318e-06 ...  2.7086738e-02\n",
      "   2.7894983e-02  1.1020797e+00]]\n"
     ]
    }
   ],
   "source": [
    "## BOUNDARY ELEMENT METHOD\n",
    "\n",
    "## describe the surfaces and their conductivities\n",
    "#bem_model = mne.bem.make_bem_model(subject=subject, subjects_dir=subjects_dir,\n",
    "#                           conductivity=[0.3, 0.006, 0.3]) ## three layer model\n",
    "\n",
    "## model how electrical potentials spread to the electrodes and how the \n",
    "# currents of the brain are related to the magnetic field measured at the\n",
    "# sensors\n",
    "#bem_solution = mne.bem.make_bem_solution(bem_model)\n",
    "\n",
    "bem_solution = mne.bem.read_bem_solution('../../subjects/sample/bem/sample-5120-5120-5120-bem-sol.fif')\n",
    "\n",
    "print(bem_solution['solution'])\n"
   ]
  },
  {
   "cell_type": "code",
   "execution_count": null,
   "id": "08a13e14-be99-4e42-b0b4-d6757407a2c6",
   "metadata": {},
   "outputs": [],
   "source": [
    "## create a forward solution using four ingredients; L(r),\n",
    "# which maps how sources in the brain link to sensors in the helmet:\n",
    "# info: information about channel positions and sensor types\n",
    "# trans: the transformation needed to align channel positions with MR\n",
    "# src: the source model (in this case, a cortical sheet)\n",
    "# bem_solution: modelling of how electrical currents spread toward the\n",
    "#               electrodes   \n",
    "\n",
    "#fwd = mne.make_forward_solution(info=info, trans=trans, src=src, bem=bem_solution)"
   ]
  },
  {
   "cell_type": "markdown",
   "id": "20f5160c-2d12-4cca-9e54-74ea6d620d26",
   "metadata": {},
   "source": [
    "## FINALLY DO THE MINIMUM NORM ESTIMATE\n",
    "\n",
    "$$\n",
    "\\huge \\hat{\\boldsymbol \\nu}_{vox}(t) = \\boldsymbol L_V^T(\\boldsymbol G + \\epsilon \\boldsymbol I)^{-1} \\boldsymbol b(t)    \n",
    "$$\n",
    "with\n",
    "$$\n",
    "\\huge \\boldsymbol G = \\int_\\Omega \\boldsymbol L (\\boldsymbol r) \\boldsymbol L^T (\\boldsymbol r) d^3r\n",
    "$$\n",
    "and with\n",
    "$$ \n",
    "\\huge\n",
    "\\boldsymbol{\\hat{\\nu}}_{vox}(t) = \\left[\n",
    "\\begin{array}{c} \n",
    "\\boldsymbol{\\hat s} (\\boldsymbol r_1, t) \\\\\n",
    "\\boldsymbol{\\hat s} (\\boldsymbol r_2, t) \\\\\n",
    "\\vdots \\\\\n",
    "\\boldsymbol{\\hat s} (\\boldsymbol r_N, t)\n",
    "\\end{array}\n",
    "\\right]  \n",
    "$$\n"
   ]
  },
  {
   "cell_type": "code",
   "execution_count": null,
   "id": "6489e909-170a-4f4c-a989-730b16e3430b",
   "metadata": {},
   "outputs": [],
   "source": [
    "##  used to whiten the data, i.e. normalizing magnetometers, gradiometers\n",
    "## and electrode readings to make them comparable\n",
    "noise_cov = mne.compute_covariance(epochs_sample, tmin=None, tmax=0)\n",
    "noise_cov.plot(raw_sample.info)"
   ]
  },
  {
   "cell_type": "code",
   "execution_count": null,
   "id": "731a1c20-05dc-4508-922d-7e85c7dc7841",
   "metadata": {},
   "outputs": [],
   "source": [
    "inverse_operator = mne.minimum_norm.make_inverse_operator(epochs_sample.info, fwd,\n",
    "                                                          noise_cov)\n",
    "\n",
    "# estimating the source pattern for each time point Vvox(t)\n",
    "# right auditory stimulus (evokeds_sample[1])\n",
    "MNE = mne.minimum_norm.apply_inverse(evoked_sample, inverse_operator,\n",
    "                                     method='MNE')\n",
    "## standard is to use method=dSPM for depth correction"
   ]
  },
  {
   "cell_type": "code",
   "execution_count": null,
   "id": "e6cc056f-8db3-4642-a2f4-86f5aea2d0f8",
   "metadata": {},
   "outputs": [],
   "source": [
    "MNE.plot(subject='sample', subjects_dir=subjects_dir, hemi='both') ## can only be done locally"
   ]
  },
  {
   "cell_type": "markdown",
   "id": "3a53dd75-1d81-44d8-8a9e-484df1144d8e",
   "metadata": {},
   "source": [
    "## EXTRA ASSIGNMENTS\n",
    "- Compare the `'dSPM` method with the `'MNE'` method in `.apply_inverse()`. How do the source reconstructions differ?\n",
    "- Do you see any sub-cortical or cerebellar sources? Why (not)?\n",
    "- Plot the difference between conditions `'LA'` and `'RA'` on the source level - where are the main differences? To subtract two source time courses from one another you can use:\n",
    "```\n",
    "MNE_diff = MNE_LA.copy()\n",
    "MNE_diff._data -= MNE_RA.data\n",
    "```\n",
    "- Also plot the difference between conditions `'LV'` and `'RV'`\n",
    "- What sense can you make of `plt.imshow(bem_solution['solution'][:20, :20], clim=(0, 1e-4))`\n"
   ]
  },
  {
   "cell_type": "code",
   "execution_count": null,
   "id": "3a1f7ecf-868d-40cb-8eea-a5f9ad415770",
   "metadata": {},
   "outputs": [],
   "source": []
  }
 ],
 "metadata": {
  "kernelspec": {
   "display_name": "Python 3 (ipykernel)",
   "language": "python",
   "name": "python3"
  },
  "language_info": {
   "codemirror_mode": {
    "name": "ipython",
    "version": 3
   },
   "file_extension": ".py",
   "mimetype": "text/x-python",
   "name": "python",
   "nbconvert_exporter": "python",
   "pygments_lexer": "ipython3",
   "version": "3.10.12"
  }
 },
 "nbformat": 4,
 "nbformat_minor": 5
}
